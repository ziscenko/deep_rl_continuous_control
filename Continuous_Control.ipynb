{
 "cells": [
  {
   "cell_type": "markdown",
   "metadata": {},
   "source": [
    "# Continuous Control with 20 agents\n",
    "\n",
    "---\n",
    "\n",
    "Uses the Unity ML-Agents environment for the second project of the [Deep Reinforcement Learning Nanodegree](https://www.udacity.com/course/deep-reinforcement-learning-nanodegree--nd893) program.\n",
    "\n",
    "### 1. Start the Environment\n",
    "\n",
    "We begin by installing and then importing the necessary packages.  If the code cell below returns an error, please revisit the project instructions to double-check that you have installed [Unity ML-Agents](https://github.com/Unity-Technologies/ml-agents/blob/master/docs/Installation.md) and [NumPy](http://www.numpy.org/)."
   ]
  },
  {
   "cell_type": "code",
   "execution_count": 14,
   "metadata": {},
   "outputs": [],
   "source": [
    "#installing dependencies\n",
    "!pip -q install -r requirements.txt"
   ]
  },
  {
   "cell_type": "code",
   "execution_count": 1,
   "metadata": {},
   "outputs": [],
   "source": [
    "from unityagents import UnityEnvironment\n",
    "import numpy as np\n",
    "import matplotlib.pyplot as plt"
   ]
  },
  {
   "cell_type": "markdown",
   "metadata": {},
   "source": [
    "Next, we will start the environment!  **_Before running the code cell below_**, change the `file_name` parameter to match the location of the Unity environment that you downloaded.\n",
    "\n",
    "- **Mac**: `\"path/to/Reacher.app\"`\n",
    "- **Windows** (x86): `\"path/to/Reacher_Windows_x86/Reacher.exe\"`\n",
    "- **Windows** (x86_64): `\"path/to/Reacher_Windows_x86_64/Reacher.exe\"`\n",
    "- **Linux** (x86): `\"path/to/Reacher_Linux/Reacher.x86\"`\n",
    "- **Linux** (x86_64): `\"path/to/Reacher_Linux/Reacher.x86_64\"`\n",
    "- **Linux** (x86, headless): `\"path/to/Reacher_Linux_NoVis/Reacher.x86\"`\n",
    "- **Linux** (x86_64, headless): `\"path/to/Reacher_Linux_NoVis/Reacher.x86_64\"`\n",
    "\n",
    "For instance, if you are using a Mac, then you downloaded `Reacher.app`.  If this file is in the same folder as the notebook, then the line below should appear as follows:\n",
    "```\n",
    "env = UnityEnvironment(file_name=\"Reacher.app\")\n",
    "```"
   ]
  },
  {
   "cell_type": "code",
   "execution_count": 2,
   "metadata": {},
   "outputs": [
    {
     "name": "stderr",
     "output_type": "stream",
     "text": [
      "INFO:unityagents:\n",
      "'Academy' started successfully!\n",
      "Unity Academy name: Academy\n",
      "        Number of Brains: 1\n",
      "        Number of External Brains : 1\n",
      "        Lesson number : 0\n",
      "        Reset Parameters :\n",
      "\t\tgoal_size -> 5.0\n",
      "\t\tgoal_speed -> 1.0\n",
      "Unity brain name: ReacherBrain\n",
      "        Number of Visual Observations (per agent): 0\n",
      "        Vector Observation space type: continuous\n",
      "        Vector Observation space size (per agent): 33\n",
      "        Number of stacked Vector Observation: 1\n",
      "        Vector Action space type: continuous\n",
      "        Vector Action space size (per agent): 4\n",
      "        Vector Action descriptions: , , , \n"
     ]
    }
   ],
   "source": [
    "env = UnityEnvironment(file_name='Reacher_Windows_x86_64_20/Reacher.app')"
   ]
  },
  {
   "cell_type": "markdown",
   "metadata": {},
   "source": [
    "Environments contain **_brains_** which are responsible for deciding the actions of their associated agents. Here we check for the first brain available, and set it as the default brain we will be controlling from Python."
   ]
  },
  {
   "cell_type": "code",
   "execution_count": 3,
   "metadata": {},
   "outputs": [],
   "source": [
    "# get the default brain\n",
    "brain_name = env.brain_names[0]\n",
    "brain = env.brains[brain_name]"
   ]
  },
  {
   "cell_type": "markdown",
   "metadata": {},
   "source": [
    "### 2. Examine the State and Action Spaces\n",
    "\n",
    "In this environment, a double-jointed arm can move to target locations. A reward of `+0.1` is provided for each step that the agent's hand is in the goal location. Thus, the goal of your agent is to maintain its position at the target location for as many time steps as possible.\n",
    "\n",
    "The observation space consists of `33` variables corresponding to position, rotation, velocity, and angular velocities of the arm.  Each action is a vector with four numbers, corresponding to torque applicable to two joints.  Every entry in the action vector must be a number between `-1` and `1`.\n",
    "\n",
    "Run the code cell below to print some information about the environment."
   ]
  },
  {
   "cell_type": "code",
   "execution_count": 4,
   "metadata": {},
   "outputs": [
    {
     "name": "stdout",
     "output_type": "stream",
     "text": [
      "Number of agents: 20\n",
      "Size of each action: 4\n",
      "There are 20 agents. Each observes a state with length: 33\n",
      "The state for the first agent looks like: [ 0.00000000e+00 -4.00000000e+00  0.00000000e+00  1.00000000e+00\n",
      " -0.00000000e+00 -0.00000000e+00 -4.37113883e-08  0.00000000e+00\n",
      "  0.00000000e+00  0.00000000e+00  0.00000000e+00  0.00000000e+00\n",
      "  0.00000000e+00  0.00000000e+00 -1.00000000e+01  0.00000000e+00\n",
      "  1.00000000e+00 -0.00000000e+00 -0.00000000e+00 -4.37113883e-08\n",
      "  0.00000000e+00  0.00000000e+00  0.00000000e+00  0.00000000e+00\n",
      "  0.00000000e+00  0.00000000e+00  5.75471878e+00 -1.00000000e+00\n",
      "  5.55726624e+00  0.00000000e+00  1.00000000e+00  0.00000000e+00\n",
      " -1.68164849e-01]\n"
     ]
    }
   ],
   "source": [
    "# reset the environment\n",
    "env_info = env.reset(train_mode=True)[brain_name]\n",
    "\n",
    "# number of agents\n",
    "num_agents = len(env_info.agents)\n",
    "print('Number of agents:', num_agents)\n",
    "\n",
    "# size of each action\n",
    "action_size = brain.vector_action_space_size\n",
    "print('Size of each action:', action_size)\n",
    "\n",
    "# examine the state space \n",
    "states = env_info.vector_observations\n",
    "state_size = states.shape[1]\n",
    "print('There are {} agents. Each observes a state with length: {}'.format(states.shape[0], state_size))\n",
    "print('The state for the first agent looks like:', states[0])"
   ]
  },
  {
   "cell_type": "markdown",
   "metadata": {},
   "source": [
    "### 3. Take Random Actions in the Environment\n",
    "\n",
    "In the next code cell, you will learn how to use the Python API to control the agent and receive feedback from the environment.\n",
    "\n",
    "Once this cell is executed, you will watch the agent's performance, if it selects an action at random with each time step.  A window should pop up that allows you to observe the agent, as it moves through the environment.  \n",
    "\n",
    "Of course, as part of the project, you'll have to change the code so that the agent is able to use its experience to gradually choose better actions when interacting with the environment!"
   ]
  },
  {
   "cell_type": "markdown",
   "metadata": {},
   "source": [
    "When finished, you can close the environment."
   ]
  },
  {
   "cell_type": "code",
   "execution_count": 5,
   "metadata": {},
   "outputs": [],
   "source": [
    "from  collections  import deque\n",
    "from itertools import count\n",
    "import torch\n",
    "import time\n",
    "from ddpg_agent import Agent\n",
    "import matplotlib.pyplot as plt\n",
    "%matplotlib inline\n",
    "\n",
    "env_info = env.reset(train_mode=True)[brain_name]\n",
    "agent = Agent(state_size=state_size, action_size=action_size, random_seed=8)"
   ]
  },
  {
   "cell_type": "code",
   "execution_count": 6,
   "metadata": {},
   "outputs": [
    {
     "name": "stdout",
     "output_type": "stream",
     "text": [
      "Episode: 1, Score: 0.78\n",
      "Episode: 2, Score: 1.08\n",
      "Episode: 3, Score: 1.81\n",
      "Episode: 4, Score: 2.21\n",
      "Episode: 5, Score: 1.82\n",
      "Episode: 6, Score: 2.21\n",
      "Episode: 7, Score: 2.56\n",
      "Episode: 8, Score: 2.46\n",
      "Episode: 9, Score: 3.37\n",
      "Episode: 10, Score: 3.98\n",
      "*** Episode 10\tAverage Score: 2.23, Time: 00:27:00 *** \n",
      "Episode: 11, Score: 4.53\n",
      "Episode: 12, Score: 5.14\n",
      "Episode: 13, Score: 7.06\n",
      "Episode: 14, Score: 8.51\n",
      "Episode: 15, Score: 9.67\n",
      "Episode: 16, Score: 11.07\n",
      "Episode: 17, Score: 10.53\n",
      "Episode: 18, Score: 13.00\n",
      "Episode: 19, Score: 10.45\n",
      "Episode: 20, Score: 13.71\n",
      "*** Episode 20\tAverage Score: 5.80, Time: 00:56:34 *** \n",
      "Episode: 21, Score: 11.05\n",
      "Episode: 22, Score: 12.92\n",
      "Episode: 23, Score: 16.86\n",
      "Episode: 24, Score: 16.03\n",
      "Episode: 25, Score: 16.63\n",
      "Episode: 26, Score: 16.48\n",
      "Episode: 27, Score: 18.76\n",
      "Episode: 28, Score: 17.96\n",
      "Episode: 29, Score: 18.96\n",
      "Episode: 30, Score: 18.09\n",
      "*** Episode 30\tAverage Score: 9.32, Time: 01:28:48 *** \n",
      "Episode: 31, Score: 17.96\n",
      "Episode: 32, Score: 17.35\n",
      "Episode: 33, Score: 19.43\n",
      "Episode: 34, Score: 17.25\n",
      "Episode: 35, Score: 19.06\n",
      "Episode: 36, Score: 19.06\n",
      "Episode: 37, Score: 19.72\n",
      "Episode: 38, Score: 20.05\n",
      "Episode: 39, Score: 23.72\n",
      "Episode: 40, Score: 24.70\n",
      "*** Episode 40\tAverage Score: 11.95, Time: 02:04:01 *** \n",
      "Episode: 41, Score: 25.09\n",
      "Episode: 42, Score: 24.63\n",
      "Episode: 43, Score: 24.36\n",
      "Episode: 44, Score: 25.22\n",
      "Episode: 45, Score: 25.75\n",
      "Episode: 46, Score: 28.13\n",
      "Episode: 47, Score: 25.58\n",
      "Episode: 48, Score: 28.22\n",
      "Episode: 49, Score: 26.07\n",
      "Episode: 50, Score: 29.41\n",
      "*** Episode 50\tAverage Score: 14.81, Time: 02:41:20 *** \n",
      "Episode: 51, Score: 27.88\n",
      "Episode: 52, Score: 30.52\n",
      "Episode: 53, Score: 31.03\n",
      "Episode: 54, Score: 31.80\n",
      "Episode: 55, Score: 31.65\n",
      "Episode: 56, Score: 32.41\n",
      "Episode: 57, Score: 32.46\n",
      "Episode: 58, Score: 32.30\n",
      "Episode: 59, Score: 32.83\n",
      "Episode: 60, Score: 33.91\n",
      "*** Episode 60\tAverage Score: 17.62, Time: 03:19:44 *** \n",
      "Episode: 61, Score: 34.54\n",
      "Episode: 62, Score: 35.61\n",
      "Episode: 63, Score: 36.14\n",
      "Episode: 64, Score: 35.35\n",
      "Episode: 65, Score: 37.94\n",
      "Episode: 66, Score: 37.72\n",
      "Episode: 67, Score: 37.90\n",
      "Episode: 68, Score: 37.93\n",
      "Episode: 69, Score: 37.19\n",
      "Episode: 70, Score: 38.25\n",
      "*** Episode 70\tAverage Score: 20.37, Time: 03:58:07 *** \n",
      "Episode: 71, Score: 37.30\n",
      "Episode: 72, Score: 37.46\n",
      "Episode: 73, Score: 37.65\n",
      "Episode: 74, Score: 37.63\n",
      "Episode: 75, Score: 37.25\n",
      "Episode: 76, Score: 36.52\n",
      "Episode: 77, Score: 35.88\n",
      "Episode: 78, Score: 35.54\n",
      "Episode: 79, Score: 37.50\n",
      "Episode: 80, Score: 37.16\n",
      "*** Episode 80\tAverage Score: 22.45, Time: 04:36:21 *** \n",
      "Episode: 81, Score: 37.66\n",
      "Episode: 82, Score: 36.91\n",
      "Episode: 83, Score: 36.59\n",
      "Episode: 84, Score: 37.53\n",
      "Episode: 85, Score: 35.68\n",
      "Episode: 86, Score: 35.88\n",
      "Episode: 87, Score: 35.13\n",
      "Episode: 88, Score: 37.14\n",
      "Episode: 89, Score: 36.64\n",
      "Episode: 90, Score: 35.71\n",
      "*** Episode 90\tAverage Score: 24.01, Time: 05:14:40 *** \n",
      "Episode: 91, Score: 36.18\n",
      "Episode: 92, Score: 35.75\n",
      "Episode: 93, Score: 37.19\n",
      "Episode: 94, Score: 36.72\n",
      "Episode: 95, Score: 35.77\n",
      "Episode: 96, Score: 37.33\n",
      "Episode: 97, Score: 37.78\n",
      "Episode: 98, Score: 36.78\n",
      "Episode: 99, Score: 36.91\n",
      "Episode: 100, Score: 36.54\n",
      "*** Episode 100\tAverage Score: 25.28, Time: 05:53:44 *** \n",
      "Episode: 101, Score: 33.16\n",
      "Episode: 102, Score: 34.80\n",
      "Episode: 103, Score: 36.63\n",
      "Episode: 104, Score: 37.51\n",
      "Episode: 105, Score: 35.51\n",
      "Episode: 106, Score: 35.13\n",
      "Episode: 107, Score: 38.11\n",
      "Episode: 108, Score: 36.39\n",
      "Episode: 109, Score: 36.64\n",
      "Episode: 110, Score: 34.62\n",
      "*** Episode 110\tAverage Score: 28.64, Time: 06:32:07 *** \n",
      "Episode: 111, Score: 34.80\n",
      "Episode: 112, Score: 36.55\n",
      "Episode: 113, Score: 26.78\n",
      "Episode: 114, Score: 33.05\n",
      "Episode: 115, Score: 35.64\n",
      "Episode: 116, Score: 34.22\n",
      "*** Episode 116\tAverage Score: 30.19, Time: 06:55:06 *** \n",
      "Environment solved !\n"
     ]
    }
   ],
   "source": [
    "def ddpg(n_episodes=1000, print_every=10):\n",
    "    scores_deque = deque(maxlen=100)\n",
    "    scores_global = []\n",
    "        \n",
    "    time_start = time.time()\n",
    "    \n",
    "    for i_episode in range(1, n_episodes+1):\n",
    "        env_info = env.reset(train_mode=True)[brain_name]      # reset the environment    \n",
    "        states = env_info.vector_observations                  # get the current state (for each agent)\n",
    "        scores = np.zeros(num_agents)                          # initialize the score (for each agent)\n",
    "        agent.reset()\n",
    "        score_average = 0\n",
    "\n",
    "        for timestep in range(2000):\n",
    "            actions = agent.act(states)\n",
    "            env_info = env.step(actions)[brain_name]           # send all actions to tne environment\n",
    "            next_states = env_info.vector_observations         # get next state (for each agent)\n",
    "            rewards = env_info.rewards                         # get reward (for each agent)\n",
    "            dones = env_info.local_done                        # see if episode finished\n",
    "            for state, action, reward, next_state, done in zip(states, actions, rewards, next_states, dones):\n",
    "                agent.step(state, action, reward, next_state, done, timestep)  \n",
    "                #agent.step(states, actions, rewards, next_states, dones, timestep)\n",
    "            states = next_states                               # roll over states to next time step\n",
    "            scores += rewards                                  # update the score (for each agent)    \n",
    "            if np.any(dones):                                  # exit loop if episode finished\n",
    "                break\n",
    "        \n",
    "        score = np.mean(scores)\n",
    "        scores_deque.append(score)\n",
    "        score_average = np.mean(scores_deque)\n",
    "        scores_global.append(score)\n",
    "        \n",
    "        print('Episode: {}, Score: {:.2f}'\\\n",
    "              .format(i_episode, score)) \n",
    "        \n",
    "        if i_episode % print_every == 0 or (len(scores_deque) == 100 and np.mean(scores_deque) >= 30) :\n",
    "            torch.save(agent.actor_local.state_dict(), 'checkpoint_actor.pth')\n",
    "            torch.save(agent.critic_local.state_dict(), 'checkpoint_critic.pth')\n",
    "            s = (int)(time.time() - time_start) \n",
    "            print('*** Episode {}\\tAverage Score: {:.2f}, Time: {:02}:{:02}:{:02} *** '\\\n",
    "                  .format(i_episode, np.mean(scores_deque), s//3600, s%3600//60, s%60))  \n",
    "            \n",
    "        if len(scores_deque) == 100 and np.mean(scores_deque) >= 30:  \n",
    "            print('Environment solved !')\n",
    "            break\n",
    "            \n",
    "    return scores_global\n",
    "\n",
    "scores = ddpg()"
   ]
  },
  {
   "cell_type": "code",
   "execution_count": 11,
   "metadata": {},
   "outputs": [
    {
     "data": {
      "image/png": "[encoded data removed]",
      "text/plain": [
       "<Figure size 432x288 with 1 Axes>"
      ]
     },
     "metadata": {
      "needs_background": "light"
     },
     "output_type": "display_data"
    }
   ],
   "source": [
    "fig = plt.figure()\n",
    "ax = fig.add_subplot(111)\n",
    "plt.plot(range(len(scores)), scores, label='Mean score across agents')\n",
    "plt.ylabel('Score')\n",
    "plt.xlabel('Episode #')\n",
    "plt.legend(loc='lower right');\n",
    "plt.show()"
   ]
  },
  {
   "cell_type": "code",
   "execution_count": 12,
   "metadata": {},
   "outputs": [],
   "source": [
    "fig.savefig('control_result.png')"
   ]
  },
  {
   "cell_type": "code",
   "execution_count": 15,
   "metadata": {},
   "outputs": [],
   "source": [
    "env.close()"
   ]
  }
 ],
 "metadata": {
  "kernelspec": {
   "display_name": "Python 3",
   "language": "python",
   "name": "python3"
  },
  "language_info": {
   "codemirror_mode": {
    "name": "ipython",
    "version": 3
   },
   "file_extension": ".py",
   "mimetype": "text/x-python",
   "name": "python",
   "nbconvert_exporter": "python",
   "pygments_lexer": "ipython3",
   "version": "3.8.3"
  }
 },
 "nbformat": 4,
 "nbformat_minor": 4
}
